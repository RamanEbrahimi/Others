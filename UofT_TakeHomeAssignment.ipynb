{
  "nbformat": 4,
  "nbformat_minor": 0,
  "metadata": {
    "colab": {
      "name": "UofT_TakeHomeAssignment.ipynb",
      "provenance": [],
      "collapsed_sections": [],
      "authorship_tag": "ABX9TyNJSlmUuNik9h3XXx/QcC4R",
      "include_colab_link": true
    },
    "kernelspec": {
      "display_name": "Python 3",
      "name": "python3"
    },
    "language_info": {
      "name": "python"
    }
  },
  "cells": [
    {
      "cell_type": "markdown",
      "metadata": {
        "id": "view-in-github",
        "colab_type": "text"
      },
      "source": [
        "<a href=\"https://colab.research.google.com/github/RamanEbrahimi/Others/blob/main/UofT_TakeHomeAssignment.ipynb\" target=\"_parent\"><img src=\"https://colab.research.google.com/assets/colab-badge.svg\" alt=\"Open In Colab\"/></a>"
      ]
    },
    {
      "cell_type": "code",
      "metadata": {
        "id": "8bIPZD1nQ9hE"
      },
      "source": [
        "pip install cdlib"
      ],
      "execution_count": null,
      "outputs": []
    },
    {
      "cell_type": "code",
      "metadata": {
        "id": "whh7hLY_WP8X"
      },
      "source": [
        "pip install python-louvain"
      ],
      "execution_count": null,
      "outputs": []
    },
    {
      "cell_type": "code",
      "metadata": {
        "id": "UHCI5dQtmCV9"
      },
      "source": [
        "pip install snap"
      ],
      "execution_count": null,
      "outputs": []
    },
    {
      "cell_type": "code",
      "metadata": {
        "id": "DyfB_xPBDoUv"
      },
      "source": [
        "!pip install leidenalg\n",
        "!pip install igraph"
      ],
      "execution_count": null,
      "outputs": []
    },
    {
      "cell_type": "code",
      "metadata": {
        "id": "-F5rwp_fN6db"
      },
      "source": [
        "import leidenalg\n",
        "import igraph\n",
        "import networkx as nx\n",
        "import numpy as np\n",
        "import matplotlib.pyplot as plt\n",
        "import networkx.algorithms.community as nx_comm\n",
        "from networkx.generators.community import LFR_benchmark_graph\n",
        "from networkx.algorithms.community import greedy_modularity_communities\n",
        "from cdlib import algorithms\n",
        "from community import community_louvain\n",
        "from time import time\n",
        "from sklearn.cluster import SpectralClustering"
      ],
      "execution_count": null,
      "outputs": []
    },
    {
      "cell_type": "code",
      "metadata": {
        "id": "0JOgayMwKTcg"
      },
      "source": [
        "''' Generating Networks '''\n",
        "n = 250\n",
        "tau1 = 3\n",
        "tau2 = 1.5\n",
        "mu = 0.1\n",
        "graph1 = LFR_benchmark_graph(n, tau1, tau2, mu, average_degree=5, min_community=20, seed=10)\n",
        "graph2 = LFR_benchmark_graph(n, tau1, tau2, mu, average_degree=5, min_community=20, seed=10)\n",
        "graph3 = LFR_benchmark_graph(n, tau1, tau2, mu, average_degree=5, min_community=20, seed=10)\n",
        "graph4 = LFR_benchmark_graph(n, tau1, tau2, mu, average_degree=5, min_community=20, seed=10)\n",
        "graph5 = LFR_benchmark_graph(n, tau1, tau2, mu, average_degree=5, min_community=20, seed=10)\n",
        "graph_list = [graph1, graph2, graph3, graph4, graph5]"
      ],
      "execution_count": null,
      "outputs": []
    },
    {
      "cell_type": "markdown",
      "metadata": {
        "id": "jfllIIJQR957"
      },
      "source": [
        "# Algorithms\n",
        "In the following blocks I'm going to implement CNM, Louvain, and Leiden algorithms and also I will use walktrap algorithm and surprise community algorithm too. Before each algorithm, I will give a brief intoduction to it."
      ]
    },
    {
      "cell_type": "markdown",
      "metadata": {
        "id": "h2v_Tg4BTZrz"
      },
      "source": [
        "## Louvain Algorithm\n",
        "This approach is based on modularity, which tries to maximize the difference between the actual number of edges in a community and the expected number of edges in the community. However optimizing modularity in a network is NP-hard, therefore have to use heuristics. Louvain algorithm is divided into iteratively repeating two phases;\n",
        "1. Local moving of nodes\n",
        "2. Aggregation of the network\n",
        "\n",
        "In the first phase, the algorithm assigns a different community to each node of the network. Then for each node, it considered the neighbours and evaluate the gain of modularity by removing the particular node from the current community and placing in the neighbour’s community. The node will be placed in the neighbour’s community if the gain is positive and maximized. The node will remain in the same community if there is no positive gain. This process is applied repeatedly and for all nodes until no further improvement is there.\n",
        "\n",
        "In the second phase, the algorithm builds a new network \n",
        "considering communities found in the first phase as nodes. Once the second phase is completed, the algorithm will reapply the first phase to the resulting network. These steps are repeated until there are no changes in the network and maximum modularity is obtained.\n",
        "\n",
        "One major limitation of the algorithm is the use of storage of the network in the main memory."
      ]
    },
    {
      "cell_type": "code",
      "metadata": {
        "id": "gc9Jap4xVWat"
      },
      "source": [
        "for graph in graph_list:\n",
        "  total_time = 0\n",
        "  t0 = time()\n",
        "  louvain_partition = community_louvain.best_partition(graph)\n",
        "  # print(louvain_partition)\n",
        "  modularity1 = community_louvain.modularity(louvain_partition, graph)\n",
        "  t1 = time()\n",
        "  print('The modularity Q based on networkx is {}'.format(modularity1))\n",
        "  print('Louvain takes %f\\n\\n' %(t1 - t0))"
      ],
      "execution_count": null,
      "outputs": []
    },
    {
      "cell_type": "markdown",
      "metadata": {
        "id": "gDtsMMem2d0W"
      },
      "source": [
        "## Clauset-Newman-Moore algorithm\n",
        "The Clauset-Newman-Moore (CNM) algorithm is a greedy algorithm that is very similar to the Louvain Algorithm. The initialization is the same. Then, instead of moving a single node from one community to another, we combine the pair of communities that maximize the increase in modularity. Also, we do not perform the community aggregation step, and continually combine pairs of communities that maximize the increase in modularity until we can no longer combine communities."
      ]
    },
    {
      "cell_type": "code",
      "metadata": {
        "id": "bs4diAY9iMNV"
      },
      "source": [
        "for graph in graph_list:\n",
        "  t0 = time()\n",
        "  c = list(greedy_modularity_communities(graph))\n",
        "  modularity2 = nx_comm.modularity(graph, c)\n",
        "  t1 = time()\n",
        "  print('The modularity Q based on networkx is {}'.format(modularity2))\n",
        "  print('CNM takes %f\\n\\n' %(t1 - t0))"
      ],
      "execution_count": null,
      "outputs": []
    },
    {
      "cell_type": "markdown",
      "metadata": {
        "id": "TG67Ghv9iMlb"
      },
      "source": [
        "## Leiden algorithm\n",
        "Girvan-Newman algorithm relies on the iterative elimination of edges that have the highest number of shortest paths between nodes passing through them. By removing edges from the graph one-by-one, the network breaks down into smaller pieces, so-called communities. The algorithm was introduced by Michelle Girvan and Mark Newman."
      ]
    },
    {
      "cell_type": "code",
      "metadata": {
        "id": "B_8m8pW22zCG"
      },
      "source": [
        "for graph in graph_list:\n",
        "  t0 = time()\n",
        "  g = igraph.Graph.from_networkx(graph)\n",
        "  part = leidenalg.find_partition(g, leidenalg.ModularityVertexPartition)\n",
        "  modularity3 = nx_comm.modularity(graph, list(part))\n",
        "  t1 = time()\n",
        "  print('The modularity Q based on networkx is {}'.format(modularity3))\n",
        "  print('Leiden takes %f\\n\\n' %(t1 - t0))"
      ],
      "execution_count": null,
      "outputs": []
    },
    {
      "cell_type": "markdown",
      "metadata": {
        "id": "LgXFmnd9W4sq"
      },
      "source": [
        "## Spectral"
      ]
    },
    {
      "cell_type": "code",
      "metadata": {
        "id": "_IfgRJQ8W62B"
      },
      "source": [
        "for graph in graph_list:\n",
        "  t0 = time()\n",
        "  adjacent_mat = nx.to_numpy_matrix(graph1)\n",
        "  sc = SpectralClustering(4, affinity='precomputed', n_init=100)\n",
        "  sc.fit(adjacent_mat)\n",
        "  lg = list(graph1)\n",
        "  num = len(set(sc.labels_))\n",
        "  cluster = []\n",
        "  for i in range(num):\n",
        "    cluster.append([])\n",
        "  for i , val in enumerate(sc.labels_):\n",
        "    cluster[val].append(lg[i])\n",
        "  t1 = time()\n",
        "\n",
        "  print(\"Modularity score : \",nx_comm.modularity(graph1, cluster))\n",
        "  print('Spectral takes %f\\n\\n' %(t1 - t0))"
      ],
      "execution_count": null,
      "outputs": []
    },
    {
      "cell_type": "markdown",
      "metadata": {
        "id": "3EyTZsJIVKQx"
      },
      "source": [
        "# Drawing our generated networks, Just for fun!"
      ]
    },
    {
      "cell_type": "code",
      "metadata": {
        "colab": {
          "background_save": true
        },
        "id": "vttBEm0XQHua",
        "outputId": "2037e3c8-c801-4a26-fd83-b0778a39fe78"
      },
      "source": [
        "# drawing in circular layout\n",
        "nx.draw_circular(graph1, with_labels = True)\n",
        "plt.savefig(\"circular1.png\", dpi=1000)\n",
        " \n",
        "# clearing the current plot\n",
        "plt.clf()\n",
        " \n",
        "# drawing in random layout\n",
        "nx.draw_random(graph2, with_labels = True)\n",
        "plt.savefig(\"random3.png\", dpi=1000)\n",
        " \n",
        "# clearing the current plot\n",
        "plt.clf()\n",
        " \n",
        "# drawing in spectral layout\n",
        "nx.draw_spectral(graph3, with_labels = True)\n",
        "plt.savefig(\"spectral4.png\", dpi=1000)\n",
        " \n",
        "# clearing the current plot\n",
        "plt.clf()\n",
        " \n",
        "# drawing in spring layout\n",
        "nx.draw_spring(graph4, with_labels = True)\n",
        "plt.savefig(\"spring5.png\", dpi=1000)\n",
        " \n",
        "# clearing the current plot\n",
        "plt.clf()\n",
        " \n",
        "# drawing in shell layout\n",
        "nx.draw_shell(graph5, with_labels = True)\n",
        "plt.savefig(\"shell6.png\", dpi=1000)\n",
        " \n",
        "# clearing the current plot\n",
        "plt.clf()"
      ],
      "execution_count": null,
      "outputs": [
        {
          "data": {
            "text/plain": [
              "<Figure size 432x288 with 0 Axes>"
            ]
          },
          "metadata": {},
          "output_type": "display_data"
        }
      ]
    },
    {
      "cell_type": "code",
      "metadata": {
        "id": "2Q4tAZKUZ6oL"
      },
      "source": [
        ""
      ],
      "execution_count": null,
      "outputs": []
    }
  ]
}